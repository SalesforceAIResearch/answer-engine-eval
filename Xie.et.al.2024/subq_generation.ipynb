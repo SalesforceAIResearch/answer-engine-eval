{
 "cells": [
  {
   "cell_type": "code",
   "execution_count": null,
   "id": "71a9fb76-7ba6-44fb-928c-3f97249034d8",
   "metadata": {},
   "outputs": [],
   "source": [
    "import numpy as np\n",
    "import pandas as pd\n",
    "pd.set_option('display.max_rows', None)\n",
    "from tqdm import tqdm\n",
    "import random\n",
    "from pprint import pprint\n",
    "import re\n",
    "import copy\n",
    "import json"
   ]
  },
  {
   "cell_type": "code",
   "execution_count": null,
   "id": "078b2c10-c00d-473c-8f03-5fec58922d76",
   "metadata": {},
   "outputs": [],
   "source": [
    "from openai import OpenAI\n",
    "client = OpenAI()\n",
    "import time\n",
    "SLEEP_TIME = 1\n",
    "\n",
    "def gpt4(input_text, prior_messages=None):\n",
    "    gpt4_kwargs = {\n",
    "        \"model\": \"gpt-4-turbo\",\n",
    "        \"temperature\": 0,\n",
    "    }\n",
    "    if prior_messages is None:\n",
    "        messages = [{\"role\": \"system\", \"content\": \"You are a helpful assistant.\"}]\n",
    "    else:\n",
    "        messages = copy.deepcopy(prior_messages)\n",
    "    messages.append({\"role\": \"user\", \"content\": input_text})\n",
    "    while True:\n",
    "        try:\n",
    "            response = client.chat.completions.create(messages=messages, **gpt4_kwargs)\n",
    "            break\n",
    "        except Exception as e:\n",
    "            print(\"-\"*30)\n",
    "            print(e)\n",
    "            if type(e).__name__ == \"RateLimitError\":\n",
    "                print(f\"Sleep for {SLEEP_TIME}......\")\n",
    "                time.sleep(SLEEP_TIME)\n",
    "            print(\"-\"*30)\n",
    "    output_text = response.choices[0].message.content\n",
    "    messages.append({\"role\": \"assistant\", \"content\": output_text})\n",
    "    return output_text, messages"
   ]
  },
  {
   "cell_type": "code",
   "execution_count": null,
   "id": "9e0dfd2e-f95a-454c-9784-e5d99dd25d56",
   "metadata": {},
   "outputs": [],
   "source": [
    "questions = [\n",
    "    \"YOUR QUESTIONS HERE\",\n",
    "    \"YOUR QUESTIONS HERE\",\n",
    "    \"YOUR QUESTIONS HERE\",\n",
    "    \"YOUR QUESTIONS HERE\",\n",
    "    \"YOUR QUESTIONS HERE\"\n",
    "]"
   ]
  },
  {
   "cell_type": "code",
   "execution_count": null,
   "id": "7243be87-3644-4fd4-9777-ecd69d0625a1",
   "metadata": {},
   "outputs": [],
   "source": [
    "prompt = \"\"\"Decompose the following complex question into a collection of around 20 sub-questions that you think would be relevant to answer the complex question fully.\n",
    "\n",
    "Organize the answer in JSON-format, shaped as {\"sub-questions\": [\"sub-question #1\", \"sub-question #2\", ...]}.\n",
    "Place the JSON-format answer between <answer> and </answer> tags.\n",
    "\n",
    "Complex question: $QUESTION\n",
    "Answer in JSON-format:\n",
    "\"\"\""
   ]
  },
  {
   "cell_type": "code",
   "execution_count": null,
   "id": "f2cd1b08-6f4c-42f0-8505-68421ac12444",
   "metadata": {},
   "outputs": [],
   "source": [
    "subquestion_collection = list()\n",
    "for q in tqdm(questions):\n",
    "    sub_questions, _ = gpt4(prompt.replace(\"$QUESTION\", q))\n",
    "    try:\n",
    "        sub_questions = json.loads(sub_questions.replace(\"<answer>\", \"\").replace(\"</answer>\", \"\").strip())\n",
    "        assert \"sub-questions\" in sub_questions\n",
    "    except:\n",
    "        print(sub_questions)\n",
    "    subquestion_collection.append({\"question\": q, \"sub_questions\": sub_questions[\"sub-questions\"]})"
   ]
  },
  {
   "cell_type": "code",
   "execution_count": null,
   "id": "e0c9ee69-4444-43f7-b249-55e2598e416f",
   "metadata": {},
   "outputs": [],
   "source": [
    "with open(\"decompositions.json\", \"w\") as f:\n",
    "    json.dump(subquestion_collection, f, indent=4)"
   ]
  }
 ],
 "metadata": {
  "kernelspec": {
   "display_name": "Python 3 (ipykernel)",
   "language": "python",
   "name": "python3"
  },
  "language_info": {
   "codemirror_mode": {
    "name": "ipython",
    "version": 3
   },
   "file_extension": ".py",
   "mimetype": "text/x-python",
   "name": "python",
   "nbconvert_exporter": "python",
   "pygments_lexer": "ipython3",
   "version": "3.11.9"
  }
 },
 "nbformat": 4,
 "nbformat_minor": 5
}
